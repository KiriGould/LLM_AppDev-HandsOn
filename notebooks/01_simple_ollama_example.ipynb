{
 "cells": [
  {
   "cell_type": "code",
   "execution_count": 1,
   "id": "717177da-ef9f-4c72-a73c-a299d70edeef",
   "metadata": {
    "tags": []
   },
   "outputs": [],
   "source": [
    "from llama_index.llms import Ollama"
   ]
  },
  {
   "cell_type": "code",
   "execution_count": 2,
   "id": "81e3d82c-bcec-434c-b52a-8d133061455f",
   "metadata": {
    "tags": []
   },
   "outputs": [],
   "source": [
    "OLLAMA_HOST = 'localhost'"
   ]
  },
  {
   "cell_type": "code",
   "execution_count": 3,
   "id": "7627db28-20ea-4b29-b3b2-2a76759877cc",
   "metadata": {
    "tags": []
   },
   "outputs": [],
   "source": [
    "llm = Ollama(model=\"zephyr\", base_url=\"http://\"+OLLAMA_HOST+\":11434\")"
   ]
  },
  {
   "cell_type": "code",
   "execution_count": 4,
   "id": "07e18723-aea8-4005-9d13-5783cb03652f",
   "metadata": {
    "tags": []
   },
   "outputs": [],
   "source": [
    "resp = llm.complete(\"Who is Linus Torvalds?\")"
   ]
  },
  {
   "cell_type": "code",
   "execution_count": 5,
   "id": "1eac2ee6-35e7-4fd6-b653-46d5c825cb08",
   "metadata": {
    "tags": []
   },
   "outputs": [
    {
     "name": "stdout",
     "output_type": "stream",
     "text": [
      "Linus Torvalds is a Finnish-American software engineer and computer scientist. He is best known as the creator of the Linux kernel, which has become one of the most widely used operating systems in the world. Torvalds developed Linux in 1991 while a student at the University of Helsinki. Since then, he has continued to lead the development of the Linux kernel and has made significant contributions to other open-source projects as well. Torvalds is known for his distinctive coding style and his sometimes abrasive personality, which have earned him both admiration and criticism within the tech community. Nonetheless, his impact on the technology industry and open-source software development cannot be overstated.\n"
     ]
    }
   ],
   "source": [
    "print(resp)"
   ]
  },
  {
   "cell_type": "code",
   "execution_count": 6,
   "id": "40a3d582-24fe-42c5-8854-37a889152fa8",
   "metadata": {
    "tags": []
   },
   "outputs": [],
   "source": [
    "resp = llm.stream_complete(\"When was Linux first released?\")"
   ]
  },
  {
   "cell_type": "code",
   "execution_count": 7,
   "id": "125be39b-dcfa-475d-9f15-695045ca021b",
   "metadata": {
    "tags": []
   },
   "outputs": [
    {
     "name": "stdout",
     "output_type": "stream",
     "text": [
      "Linux was first announced on August 25, 1991, by its creator, Linus Torvalds. The first publicly released version of Linux, known as Linux kernel 0.01, was made available for download on September 17, 1991. However, this initial release was very basic and primarily intended for use by other computer hobbyists and programmers like Torvalds who were interested in the design and development of a new operating system. The first widely distributed version of Linux, Linux kernel 0.95, was released in April 1992, which added support for Intel x86 processors and provided a more stable and functional platform for users."
     ]
    }
   ],
   "source": [
    "for r in resp:\n",
    "    print(r.delta, end=\"\")"
   ]
  }
 ],
 "metadata": {
  "kernelspec": {
   "display_name": "Python 3 (ipykernel)",
   "language": "python",
   "name": "python3"
  },
  "language_info": {
   "codemirror_mode": {
    "name": "ipython",
    "version": 3
   },
   "file_extension": ".py",
   "mimetype": "text/x-python",
   "name": "python",
   "nbconvert_exporter": "python",
   "pygments_lexer": "ipython3",
   "version": "3.10.10"
  }
 },
 "nbformat": 4,
 "nbformat_minor": 5
}
