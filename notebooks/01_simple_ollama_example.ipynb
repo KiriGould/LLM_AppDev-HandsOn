{
 "cells": [
  {
   "cell_type": "code",
   "execution_count": 1,
   "id": "717177da-ef9f-4c72-a73c-a299d70edeef",
   "metadata": {
    "tags": []
   },
   "outputs": [],
   "source": [
    "from llama_index.llms import Ollama"
   ]
  },
  {
   "cell_type": "code",
   "execution_count": 2,
   "id": "81e3d82c-bcec-434c-b52a-8d133061455f",
   "metadata": {
    "tags": []
   },
   "outputs": [],
   "source": [
    "OLLAMA_HOST = 'localhost'"
   ]
  },
  {
   "cell_type": "code",
   "execution_count": 3,
   "id": "7627db28-20ea-4b29-b3b2-2a76759877cc",
   "metadata": {
    "tags": []
   },
   "outputs": [],
   "source": [
    "llm = Ollama(model=\"zephyr\", base_url=\"http://\"+OLLAMA_HOST+\":11434\")"
   ]
  },
  {
   "cell_type": "code",
   "execution_count": 4,
   "id": "07e18723-aea8-4005-9d13-5783cb03652f",
   "metadata": {
    "tags": []
   },
   "outputs": [
    {
     "name": "stdout",
     "output_type": "stream",
     "text": [
      "Linus Torvalds is a Finnish-American software engineer and computer scientist. He is best known as the creator of the Linux kernel, which forms the foundation of the widely used Linux operating system. Torvalds developed the first version of Linux in 1991 while studying at the Helsinki University of Technology. Since then, he has continued to lead the development of the Linux kernel and has contributed significantly to its evolution over the years. His collaborative open-source development model and his commitment to maintaining a high level of code quality and standards have made Linux one of the most widely used operating systems today. Torvalds' influence extends far beyond the Linux community, as many other open-source projects have adopted similar principles and models inspired by his work.\n"
     ]
    }
   ],
   "source": [
    "resp = llm.complete(\"Who is Linus Torvalds?\")\n",
    "print(resp)"
   ]
  },
  {
   "cell_type": "code",
   "execution_count": 5,
   "id": "40a3d582-24fe-42c5-8854-37a889152fa8",
   "metadata": {
    "tags": []
   },
   "outputs": [
    {
     "name": "stdout",
     "output_type": "stream",
     "text": [
      "Linux was first released on September 17, 1991, by Linus Torvalds, a Finnish computer science student at the Helsinki University of Technology. The initial version was released as free software and quickly gained popularity among computer enthusiasts and hobbyists due to its flexibility, open-source nature, and compatibility with various hardware platforms. Today, Linux is widely used in servers, supercomputers, embedded devices, and other computing applications where reliability, security, and cost-effectiveness are critical factors."
     ]
    }
   ],
   "source": [
    "resp = llm.stream_complete(\"When was Linux first released?\")\n",
    "for r in resp:\n",
    "    print(r.delta, end=\"\")"
   ]
  }
 ],
 "metadata": {
  "kernelspec": {
   "display_name": "Python 3 (ipykernel)",
   "language": "python",
   "name": "python3"
  },
  "language_info": {
   "codemirror_mode": {
    "name": "ipython",
    "version": 3
   },
   "file_extension": ".py",
   "mimetype": "text/x-python",
   "name": "python",
   "nbconvert_exporter": "python",
   "pygments_lexer": "ipython3",
   "version": "3.11.6"
  }
 },
 "nbformat": 4,
 "nbformat_minor": 5
}
