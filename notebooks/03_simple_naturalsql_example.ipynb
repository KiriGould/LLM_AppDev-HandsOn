{
 "cells": [
  {
   "cell_type": "code",
   "execution_count": 1,
   "id": "717177da-ef9f-4c72-a73c-a299d70edeef",
   "metadata": {
    "tags": []
   },
   "outputs": [],
   "source": [
    "from llama_index.llms import Ollama"
   ]
  },
  {
   "cell_type": "code",
   "execution_count": 2,
   "id": "81e3d82c-bcec-434c-b52a-8d133061455f",
   "metadata": {
    "tags": []
   },
   "outputs": [],
   "source": [
    "OLLAMA_HOST = 'ollama.darmstadt-workshop.svc.cluster.local'\n",
    "OLLAMA_MODEL = 'mistral-openorca'"
   ]
  },
  {
   "cell_type": "code",
   "execution_count": 3,
   "id": "7627db28-20ea-4b29-b3b2-2a76759877cc",
   "metadata": {
    "tags": []
   },
   "outputs": [],
   "source": [
    "llm = Ollama(model=OLLAMA_MODEL, base_url=\"http://\"+OLLAMA_HOST+\":11434\")"
   ]
  },
  {
   "cell_type": "code",
   "execution_count": 5,
   "id": "88a51e7e-d469-4f8d-83f2-05f2850b5fb6",
   "metadata": {},
   "outputs": [
    {
     "data": {
      "application/vnd.jupyter.widget-view+json": {
       "model_id": "5074d697f40d44d79ec70dbdf91d24bf",
       "version_major": 2,
       "version_minor": 0
      },
      "text/plain": [
       "config.json:   0%|          | 0.00/684 [00:00<?, ?B/s]"
      ]
     },
     "metadata": {},
     "output_type": "display_data"
    },
    {
     "data": {
      "application/vnd.jupyter.widget-view+json": {
       "model_id": "51e2e70237e44b68b4db6ec5478a0ac4",
       "version_major": 2,
       "version_minor": 0
      },
      "text/plain": [
       "model.safetensors:   0%|          | 0.00/133M [00:00<?, ?B/s]"
      ]
     },
     "metadata": {},
     "output_type": "display_data"
    },
    {
     "data": {
      "application/vnd.jupyter.widget-view+json": {
       "model_id": "eef183fadb9a40379871fa5b87df2272",
       "version_major": 2,
       "version_minor": 0
      },
      "text/plain": [
       "tokenizer_config.json:   0%|          | 0.00/366 [00:00<?, ?B/s]"
      ]
     },
     "metadata": {},
     "output_type": "display_data"
    },
    {
     "data": {
      "application/vnd.jupyter.widget-view+json": {
       "model_id": "f815774f32a747b0acdbf24eac5a12f7",
       "version_major": 2,
       "version_minor": 0
      },
      "text/plain": [
       "vocab.txt:   0%|          | 0.00/232k [00:00<?, ?B/s]"
      ]
     },
     "metadata": {},
     "output_type": "display_data"
    },
    {
     "data": {
      "application/vnd.jupyter.widget-view+json": {
       "model_id": "6f81c669914c45b9b31646f1227eb2ae",
       "version_major": 2,
       "version_minor": 0
      },
      "text/plain": [
       "tokenizer.json:   0%|          | 0.00/711k [00:00<?, ?B/s]"
      ]
     },
     "metadata": {},
     "output_type": "display_data"
    },
    {
     "data": {
      "application/vnd.jupyter.widget-view+json": {
       "model_id": "50c67d734d364b9382e4e3142d35096b",
       "version_major": 2,
       "version_minor": 0
      },
      "text/plain": [
       "special_tokens_map.json:   0%|          | 0.00/125 [00:00<?, ?B/s]"
      ]
     },
     "metadata": {},
     "output_type": "display_data"
    },
    {
     "name": "stderr",
     "output_type": "stream",
     "text": [
      "[nltk_data] Downloading package punkt to /tmp/llama_index...\n",
      "[nltk_data]   Unzipping tokenizers/punkt.zip.\n"
     ]
    }
   ],
   "source": [
    "from llama_index import ServiceContext\n",
    "service_context = ServiceContext.from_defaults(llm=llm, embed_model=\"local\")"
   ]
  },
  {
   "cell_type": "code",
   "execution_count": 6,
   "id": "40a3d582-24fe-42c5-8854-37a889152fa8",
   "metadata": {
    "tags": []
   },
   "outputs": [
    {
     "name": "stdout",
     "output_type": "stream",
     "text": [
      " As of my last knowledge update in November 2021, gas prices in Germany have been significantly affected by the global energy crisis and rising inflation. The prices can vary depending on the region and provider, but on average, a kilowatt-hour (kWh) of electricity costs around €0.35 to €0.45. Please note that this information may not be up-to-date, so it's best to check the current prices directly from your local utility provider or an online price comparison tool."
     ]
    }
   ],
   "source": [
    "resp = llm.stream_complete(\"How expensive is gas in Germany right now?\")\n",
    "for r in resp:\n",
    "    print(r.delta, end=\"\")"
   ]
  },
  {
   "cell_type": "code",
   "execution_count": 7,
   "id": "125be39b-dcfa-475d-9f15-695045ca021b",
   "metadata": {
    "tags": []
   },
   "outputs": [],
   "source": [
    "from sqlalchemy import (\n",
    "    create_engine,\n",
    "    MetaData,\n",
    "    Table,\n",
    "    Column,\n",
    "    String,\n",
    "    Uuid,\n",
    "    Boolean,\n",
    "    Integer,\n",
    "    Float,\n",
    "    select,\n",
    "    column,\n",
    ")"
   ]
  },
  {
   "cell_type": "code",
   "execution_count": 8,
   "id": "21117b06-2fcf-4512-a91b-f5ccf1fa468a",
   "metadata": {},
   "outputs": [],
   "source": [
    "engine = create_engine(\"sqlite:///:memory:\", future=True)\n",
    "metadata_obj = MetaData()"
   ]
  },
  {
   "cell_type": "code",
   "execution_count": 8,
   "id": "3bcdadde-2db8-4e17-80d3-205a0bcb8cd4",
   "metadata": {},
   "outputs": [],
   "source": [
    "# We're only looking at one gas station in Darmstadt https://maps.app.goo.gl/ivqJNjNcThwwJQTx7"
   ]
  },
  {
   "cell_type": "code",
   "execution_count": 9,
   "id": "25ee4560-ea68-41bf-8bf3-317ab4e3dc9f",
   "metadata": {},
   "outputs": [
    {
     "data": {
      "text/plain": [
       "dict_keys(['tankerkoenig_prices'])"
      ]
     },
     "execution_count": 9,
     "metadata": {},
     "output_type": "execute_result"
    }
   ],
   "source": [
    "table_name = \"tankerkoenig_prices\"\n",
    "#    date,station_uuid,diesel,e5,e10,dieselchange,e5change,e10change\n",
    "tankerkoenig_prices_table = Table(\n",
    "    table_name,\n",
    "    metadata_obj,\n",
    "    Column(\"date\", String),\n",
    "    #Column(\"station_uuid\", Uuid),\n",
    "    Column(\"station_uuid\", String),\n",
    "    Column(\"diesel\", Float),\n",
    "    Column(\"e5\", Float),\n",
    "    Column(\"e10\", Float),\n",
    "    Column(\"dieselchange\", Boolean),\n",
    "    Column(\"e5change\", Boolean),\n",
    "    Column(\"e10change\", Boolean),\n",
    "\n",
    ")\n",
    "\n",
    "metadata_obj.create_all(engine)\n",
    "metadata_obj.tables.keys()\n"
   ]
  },
  {
   "cell_type": "code",
   "execution_count": 10,
   "id": "6fac11c4-e365-4fa3-bf5d-898a5046a63c",
   "metadata": {},
   "outputs": [],
   "source": [
    "rows = [\n",
    "  {\n",
    "    \"date\": \"2023-11-21 05:01:19+01\",\n",
    "    \"station_uuid\": \"126eb6c4-9069-43f1-bf88-dd2d12d788f6\",\n",
    "    \"diesel\": 1.789,\n",
    "    \"e5\": 1.849,\n",
    "    \"e10\": 1.789,\n",
    "    \"dieselchange\": 1,\n",
    "    \"e5change\": 1,\n",
    "    \"e10change\": 1\n",
    "  },\n",
    "  {\n",
    "    \"date\": \"2023-11-21 08:03:11+01\",\n",
    "    \"station_uuid\": \"126eb6c4-9069-43f1-bf88-dd2d12d788f6\",\n",
    "    \"diesel\": 1.789,\n",
    "    \"e5\": 1.839,\n",
    "    \"e10\": 1.779,\n",
    "    \"dieselchange\": 0,\n",
    "    \"e5change\": 1,\n",
    "    \"e10change\": 1\n",
    "  },\n",
    "  {\n",
    "    \"date\": \"2023-11-21 08:17:28+01\",\n",
    "    \"station_uuid\": \"126eb6c4-9069-43f1-bf88-dd2d12d788f6\",\n",
    "    \"diesel\": 1.749,\n",
    "    \"e5\": 1.839,\n",
    "    \"e10\": 1.779,\n",
    "    \"dieselchange\": 1,\n",
    "    \"e5change\": 0,\n",
    "    \"e10change\": 0\n",
    "  },\n",
    "  {\n",
    "    \"date\": \"2023-11-21 09:02:20+01\",\n",
    "    \"station_uuid\": \"126eb6c4-9069-43f1-bf88-dd2d12d788f6\",\n",
    "    \"diesel\": 1.809,\n",
    "    \"e5\": 1.899,\n",
    "    \"e10\": 1.839,\n",
    "    \"dieselchange\": 1,\n",
    "    \"e5change\": 1,\n",
    "    \"e10change\": 1\n",
    "  },\n",
    "  {\n",
    "    \"date\": \"2023-11-21 09:05:22+01\",\n",
    "    \"station_uuid\": \"126eb6c4-9069-43f1-bf88-dd2d12d788f6\",\n",
    "    \"diesel\": 1.779,\n",
    "    \"e5\": 1.889,\n",
    "    \"e10\": 1.829,\n",
    "    \"dieselchange\": 1,\n",
    "    \"e5change\": 1,\n",
    "    \"e10change\": 1\n",
    "  },\n",
    "  {\n",
    "    \"date\": \"2023-11-21 10:33:01+01\",\n",
    "    \"station_uuid\": \"126eb6c4-9069-43f1-bf88-dd2d12d788f6\",\n",
    "    \"diesel\": 1.759,\n",
    "    \"e5\": 1.879,\n",
    "    \"e10\": 1.819,\n",
    "    \"dieselchange\": 1,\n",
    "    \"e5change\": 1,\n",
    "    \"e10change\": 1\n",
    "  },\n",
    "  {\n",
    "    \"date\": \"2023-11-21 10:38:08+01\",\n",
    "    \"station_uuid\": \"126eb6c4-9069-43f1-bf88-dd2d12d788f6\",\n",
    "    \"diesel\": 1.729,\n",
    "    \"e5\": 1.859,\n",
    "    \"e10\": 1.799,\n",
    "    \"dieselchange\": 1,\n",
    "    \"e5change\": 1,\n",
    "    \"e10change\": 1\n",
    "  },\n",
    "  {\n",
    "    \"date\": \"2023-11-21 10:52:23+01\",\n",
    "    \"station_uuid\": \"126eb6c4-9069-43f1-bf88-dd2d12d788f6\",\n",
    "    \"diesel\": 1.729,\n",
    "    \"e5\": 1.849,\n",
    "    \"e10\": 1.789,\n",
    "    \"dieselchange\": 0,\n",
    "    \"e5change\": 1,\n",
    "    \"e10change\": 1\n",
    "  },\n",
    "  {\n",
    "    \"date\": \"2023-11-21 10:58:31+01\",\n",
    "    \"station_uuid\": \"126eb6c4-9069-43f1-bf88-dd2d12d788f6\",\n",
    "    \"diesel\": 1.719,\n",
    "    \"e5\": 1.849,\n",
    "    \"e10\": 1.789,\n",
    "    \"dieselchange\": 1,\n",
    "    \"e5change\": 0,\n",
    "    \"e10change\": 0\n",
    "  },\n",
    "  {\n",
    "    \"date\": \"2023-11-21 11:12:47+01\",\n",
    "    \"station_uuid\": \"126eb6c4-9069-43f1-bf88-dd2d12d788f6\",\n",
    "    \"diesel\": 1.719,\n",
    "    \"e5\": 1.839,\n",
    "    \"e10\": 1.779,\n",
    "    \"dieselchange\": 0,\n",
    "    \"e5change\": 1,\n",
    "    \"e10change\": 1\n",
    "  },\n",
    "  {\n",
    "    \"date\": \"2023-11-21 11:22:58+01\",\n",
    "    \"station_uuid\": \"126eb6c4-9069-43f1-bf88-dd2d12d788f6\",\n",
    "    \"diesel\": 1.709,\n",
    "    \"e5\": 1.839,\n",
    "    \"e10\": 1.779,\n",
    "    \"dieselchange\": 1,\n",
    "    \"e5change\": 0,\n",
    "    \"e10change\": 0\n",
    "  },\n",
    "  {\n",
    "    \"date\": \"2023-11-21 11:27:03+01\",\n",
    "    \"station_uuid\": \"126eb6c4-9069-43f1-bf88-dd2d12d788f6\",\n",
    "    \"diesel\": 1.699,\n",
    "    \"e5\": 1.839,\n",
    "    \"e10\": 1.779,\n",
    "    \"dieselchange\": 1,\n",
    "    \"e5change\": 0,\n",
    "    \"e10change\": 0\n",
    "  },\n",
    "  {\n",
    "    \"date\": \"2023-11-21 12:01:48+01\",\n",
    "    \"station_uuid\": \"126eb6c4-9069-43f1-bf88-dd2d12d788f6\",\n",
    "    \"diesel\": 1.769,\n",
    "    \"e5\": 1.909,\n",
    "    \"e10\": 1.849,\n",
    "    \"dieselchange\": 1,\n",
    "    \"e5change\": 1,\n",
    "    \"e10change\": 1\n",
    "  },\n",
    "  {\n",
    "    \"date\": \"2023-11-21 12:04:52+01\",\n",
    "    \"station_uuid\": \"126eb6c4-9069-43f1-bf88-dd2d12d788f6\",\n",
    "    \"diesel\": 1.759,\n",
    "    \"e5\": 1.869,\n",
    "    \"e10\": 1.809,\n",
    "    \"dieselchange\": 1,\n",
    "    \"e5change\": 1,\n",
    "    \"e10change\": 1\n",
    "  },\n",
    "  {\n",
    "    \"date\": \"2023-11-21 13:17:23+01\",\n",
    "    \"station_uuid\": \"126eb6c4-9069-43f1-bf88-dd2d12d788f6\",\n",
    "    \"diesel\": 1.759,\n",
    "    \"e5\": 1.859,\n",
    "    \"e10\": 1.799,\n",
    "    \"dieselchange\": 0,\n",
    "    \"e5change\": 1,\n",
    "    \"e10change\": 1\n",
    "  },\n",
    "  {\n",
    "    \"date\": \"2023-11-21 13:18:23+01\",\n",
    "    \"station_uuid\": \"126eb6c4-9069-43f1-bf88-dd2d12d788f6\",\n",
    "    \"diesel\": 1.699,\n",
    "    \"e5\": 1.839,\n",
    "    \"e10\": 1.779,\n",
    "    \"dieselchange\": 1,\n",
    "    \"e5change\": 1,\n",
    "    \"e10change\": 1\n",
    "  },\n",
    "  {\n",
    "    \"date\": \"2023-11-21 14:03:45+01\",\n",
    "    \"station_uuid\": \"126eb6c4-9069-43f1-bf88-dd2d12d788f6\",\n",
    "    \"diesel\": 1.699,\n",
    "    \"e5\": 1.799,\n",
    "    \"e10\": 1.739,\n",
    "    \"dieselchange\": 0,\n",
    "    \"e5change\": 1,\n",
    "    \"e10change\": 1\n",
    "  },\n",
    "  {\n",
    "    \"date\": \"2023-11-21 14:05:47+01\",\n",
    "    \"station_uuid\": \"126eb6c4-9069-43f1-bf88-dd2d12d788f6\",\n",
    "    \"diesel\": 1.699,\n",
    "    \"e5\": 1.839,\n",
    "    \"e10\": 1.779,\n",
    "    \"dieselchange\": 0,\n",
    "    \"e5change\": 1,\n",
    "    \"e10change\": 1\n",
    "  },\n",
    "  {\n",
    "    \"date\": \"2023-11-21 14:45:43+01\",\n",
    "    \"station_uuid\": \"126eb6c4-9069-43f1-bf88-dd2d12d788f6\",\n",
    "    \"diesel\": 1.759,\n",
    "    \"e5\": 1.899,\n",
    "    \"e10\": 1.839,\n",
    "    \"dieselchange\": 1,\n",
    "    \"e5change\": 1,\n",
    "    \"e10change\": 1\n",
    "  },\n",
    "  {\n",
    "    \"date\": \"2023-11-21 14:48:46+01\",\n",
    "    \"station_uuid\": \"126eb6c4-9069-43f1-bf88-dd2d12d788f6\",\n",
    "    \"diesel\": 1.749,\n",
    "    \"e5\": 1.859,\n",
    "    \"e10\": 1.799,\n",
    "    \"dieselchange\": 1,\n",
    "    \"e5change\": 1,\n",
    "    \"e10change\": 1\n",
    "  },\n",
    "  {\n",
    "    \"date\": \"2023-11-21 14:53:52+01\",\n",
    "    \"station_uuid\": \"126eb6c4-9069-43f1-bf88-dd2d12d788f6\",\n",
    "    \"diesel\": 1.749,\n",
    "    \"e5\": 1.849,\n",
    "    \"e10\": 1.789,\n",
    "    \"dieselchange\": 0,\n",
    "    \"e5change\": 1,\n",
    "    \"e10change\": 1\n",
    "  },\n",
    "  {\n",
    "    \"date\": \"2023-11-21 16:02:37+01\",\n",
    "    \"station_uuid\": \"126eb6c4-9069-43f1-bf88-dd2d12d788f6\",\n",
    "    \"diesel\": 1.709,\n",
    "    \"e5\": 1.799,\n",
    "    \"e10\": 1.739,\n",
    "    \"dieselchange\": 1,\n",
    "    \"e5change\": 1,\n",
    "    \"e10change\": 1\n",
    "  },\n",
    "  {\n",
    "    \"date\": \"2023-11-21 16:21:59+01\",\n",
    "    \"station_uuid\": \"126eb6c4-9069-43f1-bf88-dd2d12d788f6\",\n",
    "    \"diesel\": 1.699,\n",
    "    \"e5\": 1.799,\n",
    "    \"e10\": 1.739,\n",
    "    \"dieselchange\": 1,\n",
    "    \"e5change\": 0,\n",
    "    \"e10change\": 0\n",
    "  },\n",
    "  {\n",
    "    \"date\": \"2023-11-21 17:03:31+01\",\n",
    "    \"station_uuid\": \"126eb6c4-9069-43f1-bf88-dd2d12d788f6\",\n",
    "    \"diesel\": 1.739,\n",
    "    \"e5\": 1.819,\n",
    "    \"e10\": 1.759,\n",
    "    \"dieselchange\": 1,\n",
    "    \"e5change\": 1,\n",
    "    \"e10change\": 1\n",
    "  },\n",
    "  {\n",
    "    \"date\": \"2023-11-21 18:03:52+01\",\n",
    "    \"station_uuid\": \"126eb6c4-9069-43f1-bf88-dd2d12d788f6\",\n",
    "    \"diesel\": 1.739,\n",
    "    \"e5\": 1.799,\n",
    "    \"e10\": 1.739,\n",
    "    \"dieselchange\": 0,\n",
    "    \"e5change\": 1,\n",
    "    \"e10change\": 1\n",
    "  },\n",
    "  {\n",
    "    \"date\": \"2023-11-21 18:22:45+01\",\n",
    "    \"station_uuid\": \"126eb6c4-9069-43f1-bf88-dd2d12d788f6\",\n",
    "    \"diesel\": 1.709,\n",
    "    \"e5\": 1.799,\n",
    "    \"e10\": 1.739,\n",
    "    \"dieselchange\": 1,\n",
    "    \"e5change\": 0,\n",
    "    \"e10change\": 0\n",
    "  },\n",
    "  {\n",
    "    \"date\": \"2023-11-21 19:02:23+01\",\n",
    "    \"station_uuid\": \"126eb6c4-9069-43f1-bf88-dd2d12d788f6\",\n",
    "    \"diesel\": 1.749,\n",
    "    \"e5\": 1.839,\n",
    "    \"e10\": 1.779,\n",
    "    \"dieselchange\": 1,\n",
    "    \"e5change\": 1,\n",
    "    \"e10change\": 1\n",
    "  },\n",
    "  {\n",
    "    \"date\": \"2023-11-21 19:03:25+01\",\n",
    "    \"station_uuid\": \"126eb6c4-9069-43f1-bf88-dd2d12d788f6\",\n",
    "    \"diesel\": 1.739,\n",
    "    \"e5\": 1.819,\n",
    "    \"e10\": 1.759,\n",
    "    \"dieselchange\": 1,\n",
    "    \"e5change\": 1,\n",
    "    \"e10change\": 1\n",
    "  },\n",
    "  {\n",
    "    \"date\": \"2023-11-21 20:23:51+01\",\n",
    "    \"station_uuid\": \"126eb6c4-9069-43f1-bf88-dd2d12d788f6\",\n",
    "    \"diesel\": 1.709,\n",
    "    \"e5\": 1.809,\n",
    "    \"e10\": 1.749,\n",
    "    \"dieselchange\": 1,\n",
    "    \"e5change\": 1,\n",
    "    \"e10change\": 1\n",
    "  },\n",
    "  {\n",
    "    \"date\": \"2023-11-21 20:39:37+01\",\n",
    "    \"station_uuid\": \"126eb6c4-9069-43f1-bf88-dd2d12d788f6\",\n",
    "    \"diesel\": 1.699,\n",
    "    \"e5\": 1.799,\n",
    "    \"e10\": 1.739,\n",
    "    \"dieselchange\": 1,\n",
    "    \"e5change\": 1,\n",
    "    \"e10change\": 1\n",
    "  },\n",
    "  {\n",
    "    \"date\": \"2023-11-21 22:01:40+01\",\n",
    "    \"station_uuid\": \"126eb6c4-9069-43f1-bf88-dd2d12d788f6\",\n",
    "    \"diesel\": 1.779,\n",
    "    \"e5\": 1.839,\n",
    "    \"e10\": 1.779,\n",
    "    \"dieselchange\": 1,\n",
    "    \"e5change\": 1,\n",
    "    \"e10change\": 1\n",
    "  }\n",
    "]"
   ]
  },
  {
   "cell_type": "code",
   "execution_count": 11,
   "id": "84858b61-bf1f-41ce-9640-419cc3eb397b",
   "metadata": {},
   "outputs": [],
   "source": [
    "from sqlalchemy import insert\n",
    "\n",
    "# rows as defined above\n",
    "\n",
    "for row in rows:\n",
    "  stmt = insert(tankerkoenig_prices_table).values(**row)\n",
    "  with engine.connect() as connection:\n",
    "    cursor = connection.execute(stmt)\n",
    "    connection.commit()"
   ]
  },
  {
   "cell_type": "code",
   "execution_count": 12,
   "id": "fb4f8b4a-3acb-438f-a88e-54d0ffabb25e",
   "metadata": {},
   "outputs": [],
   "source": [
    "from llama_index import SQLDatabase\n",
    "sql_database = SQLDatabase(engine, include_tables=[\"tankerkoenig_prices\"])"
   ]
  },
  {
   "cell_type": "code",
   "execution_count": 13,
   "id": "064df55e-bb93-4bcb-b8c5-0dca68f93c88",
   "metadata": {},
   "outputs": [],
   "source": [
    "from llama_index.indices.struct_store.sql_query import NLSQLTableQueryEngine"
   ]
  },
  {
   "cell_type": "code",
   "execution_count": 14,
   "id": "24f5538e-5a43-432f-8a64-b25e33c5b11b",
   "metadata": {},
   "outputs": [
    {
     "data": {
      "text/plain": [
       "\u001b[0;31mInit signature:\u001b[0m\n",
       "\u001b[0mNLSQLTableQueryEngine\u001b[0m\u001b[0;34m(\u001b[0m\u001b[0;34m\u001b[0m\n",
       "\u001b[0;34m\u001b[0m    \u001b[0msql_database\u001b[0m\u001b[0;34m:\u001b[0m \u001b[0mllama_index\u001b[0m\u001b[0;34m.\u001b[0m\u001b[0mutilities\u001b[0m\u001b[0;34m.\u001b[0m\u001b[0msql_wrapper\u001b[0m\u001b[0;34m.\u001b[0m\u001b[0mSQLDatabase\u001b[0m\u001b[0;34m,\u001b[0m\u001b[0;34m\u001b[0m\n",
       "\u001b[0;34m\u001b[0m    \u001b[0mtext_to_sql_prompt\u001b[0m\u001b[0;34m:\u001b[0m \u001b[0mOptional\u001b[0m\u001b[0;34m[\u001b[0m\u001b[0mllama_index\u001b[0m\u001b[0;34m.\u001b[0m\u001b[0mprompts\u001b[0m\u001b[0;34m.\u001b[0m\u001b[0mbase\u001b[0m\u001b[0;34m.\u001b[0m\u001b[0mBasePromptTemplate\u001b[0m\u001b[0;34m]\u001b[0m \u001b[0;34m=\u001b[0m \u001b[0;32mNone\u001b[0m\u001b[0;34m,\u001b[0m\u001b[0;34m\u001b[0m\n",
       "\u001b[0;34m\u001b[0m    \u001b[0mcontext_query_kwargs\u001b[0m\u001b[0;34m:\u001b[0m \u001b[0mOptional\u001b[0m\u001b[0;34m[\u001b[0m\u001b[0mdict\u001b[0m\u001b[0;34m]\u001b[0m \u001b[0;34m=\u001b[0m \u001b[0;32mNone\u001b[0m\u001b[0;34m,\u001b[0m\u001b[0;34m\u001b[0m\n",
       "\u001b[0;34m\u001b[0m    \u001b[0msynthesize_response\u001b[0m\u001b[0;34m:\u001b[0m \u001b[0mbool\u001b[0m \u001b[0;34m=\u001b[0m \u001b[0;32mTrue\u001b[0m\u001b[0;34m,\u001b[0m\u001b[0;34m\u001b[0m\n",
       "\u001b[0;34m\u001b[0m    \u001b[0mresponse_synthesis_prompt\u001b[0m\u001b[0;34m:\u001b[0m \u001b[0mOptional\u001b[0m\u001b[0;34m[\u001b[0m\u001b[0mllama_index\u001b[0m\u001b[0;34m.\u001b[0m\u001b[0mprompts\u001b[0m\u001b[0;34m.\u001b[0m\u001b[0mbase\u001b[0m\u001b[0;34m.\u001b[0m\u001b[0mBasePromptTemplate\u001b[0m\u001b[0;34m]\u001b[0m \u001b[0;34m=\u001b[0m \u001b[0;32mNone\u001b[0m\u001b[0;34m,\u001b[0m\u001b[0;34m\u001b[0m\n",
       "\u001b[0;34m\u001b[0m    \u001b[0mtables\u001b[0m\u001b[0;34m:\u001b[0m \u001b[0mUnion\u001b[0m\u001b[0;34m[\u001b[0m\u001b[0mList\u001b[0m\u001b[0;34m[\u001b[0m\u001b[0mstr\u001b[0m\u001b[0;34m]\u001b[0m\u001b[0;34m,\u001b[0m \u001b[0mList\u001b[0m\u001b[0;34m[\u001b[0m\u001b[0msqlalchemy\u001b[0m\u001b[0;34m.\u001b[0m\u001b[0msql\u001b[0m\u001b[0;34m.\u001b[0m\u001b[0mschema\u001b[0m\u001b[0;34m.\u001b[0m\u001b[0mTable\u001b[0m\u001b[0;34m]\u001b[0m\u001b[0;34m,\u001b[0m \u001b[0mNoneType\u001b[0m\u001b[0;34m]\u001b[0m \u001b[0;34m=\u001b[0m \u001b[0;32mNone\u001b[0m\u001b[0;34m,\u001b[0m\u001b[0;34m\u001b[0m\n",
       "\u001b[0;34m\u001b[0m    \u001b[0mservice_context\u001b[0m\u001b[0;34m:\u001b[0m \u001b[0mOptional\u001b[0m\u001b[0;34m[\u001b[0m\u001b[0mllama_index\u001b[0m\u001b[0;34m.\u001b[0m\u001b[0mservice_context\u001b[0m\u001b[0;34m.\u001b[0m\u001b[0mServiceContext\u001b[0m\u001b[0;34m]\u001b[0m \u001b[0;34m=\u001b[0m \u001b[0;32mNone\u001b[0m\u001b[0;34m,\u001b[0m\u001b[0;34m\u001b[0m\n",
       "\u001b[0;34m\u001b[0m    \u001b[0mcontext_str_prefix\u001b[0m\u001b[0;34m:\u001b[0m \u001b[0mOptional\u001b[0m\u001b[0;34m[\u001b[0m\u001b[0mstr\u001b[0m\u001b[0;34m]\u001b[0m \u001b[0;34m=\u001b[0m \u001b[0;32mNone\u001b[0m\u001b[0;34m,\u001b[0m\u001b[0;34m\u001b[0m\n",
       "\u001b[0;34m\u001b[0m    \u001b[0;34m**\u001b[0m\u001b[0mkwargs\u001b[0m\u001b[0;34m:\u001b[0m \u001b[0mAny\u001b[0m\u001b[0;34m,\u001b[0m\u001b[0;34m\u001b[0m\n",
       "\u001b[0;34m\u001b[0m\u001b[0;34m)\u001b[0m \u001b[0;34m->\u001b[0m \u001b[0;32mNone\u001b[0m\u001b[0;34m\u001b[0m\u001b[0;34m\u001b[0m\u001b[0m\n",
       "\u001b[0;31mDocstring:\u001b[0m     \n",
       "Natural language SQL Table query engine.\n",
       "\n",
       "Read NLStructStoreQueryEngine's docstring for more info on NL SQL.\n",
       "\u001b[0;31mInit docstring:\u001b[0m Initialize params.\n",
       "\u001b[0;31mFile:\u001b[0m           /opt/app-root/lib64/python3.9/site-packages/llama_index/indices/struct_store/sql_query.py\n",
       "\u001b[0;31mType:\u001b[0m           ABCMeta\n",
       "\u001b[0;31mSubclasses:\u001b[0m     "
      ]
     },
     "metadata": {},
     "output_type": "display_data"
    }
   ],
   "source": [
    "NLSQLTableQueryEngine?\n"
   ]
  },
  {
   "cell_type": "code",
   "execution_count": 15,
   "id": "3051297c-f957-48ff-969d-c0c803fe8f17",
   "metadata": {},
   "outputs": [],
   "source": [
    "# TODO set up custom text2SQL prompt\n",
    "sql_query_engine = NLSQLTableQueryEngine(\n",
    "    sql_database=sql_database,\n",
    "    tables=[\"tankerkoenig_prices\"],\n",
    "    service_context = service_context\n",
    ")"
   ]
  },
  {
   "cell_type": "code",
   "execution_count": 18,
   "id": "ebc0508b-54f9-49c3-a8e0-f154cce69cca",
   "metadata": {},
   "outputs": [
    {
     "name": "stdout",
     "output_type": "stream",
     "text": [
      " E10 gas was most expensive first on November 21, 2023 at 1:05 PM.\n"
     ]
    }
   ],
   "source": [
    "response = sql_query_engine.query(\"At which time was E10 gas the most expensive first?\")\n",
    "print(str(response))"
   ]
  },
  {
   "cell_type": "code",
   "execution_count": null,
   "id": "54e337ac-0ff2-468a-b87f-f8971a312a95",
   "metadata": {},
   "outputs": [],
   "source": []
  }
 ],
 "metadata": {
  "kernelspec": {
   "display_name": "Python 3.9",
   "language": "python",
   "name": "python3"
  },
  "language_info": {
   "codemirror_mode": {
    "name": "ipython",
    "version": 3
   },
   "file_extension": ".py",
   "mimetype": "text/x-python",
   "name": "python",
   "nbconvert_exporter": "python",
   "pygments_lexer": "ipython3",
   "version": "3.9.16"
  }
 },
 "nbformat": 4,
 "nbformat_minor": 5
}
