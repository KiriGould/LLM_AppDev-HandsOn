{
 "cells": [
  {
   "cell_type": "code",
   "execution_count": null,
   "id": "f84c27e2",
   "metadata": {},
   "outputs": [],
   "source": [
    "!pip install -r requirements.txt"
   ]
  },
  {
   "cell_type": "code",
   "execution_count": null,
   "id": "b42382b9",
   "metadata": {},
   "outputs": [],
   "source": [
    "# Change the hostname if running on Podman or OpenShift"
   ]
  },
  {
   "cell_type": "code",
   "execution_count": null,
   "id": "5a45d046",
   "metadata": {},
   "outputs": [],
   "source": [
    "!curl localhost:11434/api/version"
   ]
  },
  {
   "cell_type": "code",
   "execution_count": null,
   "id": "63f5cfb5",
   "metadata": {},
   "outputs": [],
   "source": [
    "!curl localhost:11434/api/pull -d '{\"name\": \"zephyr\"}'"
   ]
  },
  {
   "cell_type": "code",
   "execution_count": null,
   "id": "bc2765fa",
   "metadata": {},
   "outputs": [],
   "source": [
    "!curl localhost:11434/api/generate -d '{\"model\": \"zephyr\", \"prompt\": \"Happy little llamas running down a hill\"}'"
   ]
  },
  {
   "cell_type": "code",
   "execution_count": null,
   "id": "cc7dc67a",
   "metadata": {},
   "outputs": [],
   "source": []
  }
 ],
 "metadata": {
  "kernelspec": {
   "display_name": "Python 3 (ipykernel)",
   "language": "python",
   "name": "python3"
  },
  "language_info": {
   "codemirror_mode": {
    "name": "ipython",
    "version": 3
   },
   "file_extension": ".py",
   "mimetype": "text/x-python",
   "name": "python",
   "nbconvert_exporter": "python",
   "pygments_lexer": "ipython3",
   "version": "3.11.6"
  }
 },
 "nbformat": 4,
 "nbformat_minor": 5
}
